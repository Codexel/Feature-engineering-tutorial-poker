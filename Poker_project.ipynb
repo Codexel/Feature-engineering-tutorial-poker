{
  "nbformat": 4,
  "nbformat_minor": 0,
  "metadata": {
    "colab": {
      "name": "Poker_project.ipynb",
      "provenance": [],
      "toc_visible": true
    },
    "kernelspec": {
      "name": "python3",
      "display_name": "Python 3"
    },
    "accelerator": "GPU"
  },
  "cells": [
    {
      "cell_type": "markdown",
      "metadata": {
        "id": "I7soEcrkjD0g",
        "colab_type": "text"
      },
      "source": [
        "#Poker Hand Classification\n",
        "\n",
        "I tried to create a model to recognize poker hands, and it turned into an exercise in feature engineering. I used the [UCI Poker dataset](https://archive.ics.uci.edu/ml/datasets/Poker+Hand). Each row of data describes five cards, along with a label for the corresponding poker hand. Let's see if we can create a model which accepts five cards and determines which poker hand they create.\n",
        "\n",
        "Prediction: a decision tree will work well, since poker hands follow a strict logic, free of outliers."
      ]
    },
    {
      "cell_type": "code",
      "metadata": {
        "id": "RXOtLcorgtTA",
        "colab_type": "code",
        "colab": {}
      },
      "source": [
        "# essential imports\n",
        "import numpy as np\n",
        "import pandas as pd\n",
        "import matplotlib.pyplot as plt\n",
        "from sklearn.tree import DecisionTreeClassifier\n",
        "from sklearn.metrics import accuracy_score\n",
        "from sklearn.preprocessing import StandardScaler"
      ],
      "execution_count": null,
      "outputs": []
    },
    {
      "cell_type": "code",
      "metadata": {
        "id": "6HrY0hsYgua7",
        "colab_type": "code",
        "colab": {}
      },
      "source": [
        "# reading in the data\n",
        "training_data_url = 'https://archive.ics.uci.edu/ml/machine-learning-databases/poker/poker-hand-training-true.data'\n",
        "testing_data_url = 'https://archive.ics.uci.edu/ml/machine-learning-databases/poker/poker-hand-testing.data'\n",
        "\n",
        "training_data = pd.read_csv(training_data_url, header=None)\n",
        "testing_data = pd.read_csv(testing_data_url, header = None)"
      ],
      "execution_count": 29,
      "outputs": []
    },
    {
      "cell_type": "code",
      "metadata": {
        "id": "peF9EJK9jeTK",
        "colab_type": "code",
        "colab": {
          "base_uri": "https://localhost:8080/",
          "height": 51
        },
        "outputId": "c4957e1f-e1b2-4639-f39f-a60c225d8863"
      },
      "source": [
        "# inspecting size of both sets\n",
        "print('Entries in the training data: ' + str(training_data.shape[0]))\n",
        "print('Entries in the testing data: ' + str(testing_data.shape[0]))"
      ],
      "execution_count": null,
      "outputs": [
        {
          "output_type": "stream",
          "text": [
            "Entries in the training data: 25010\n",
            "Entries in the testing data: 1000000\n"
          ],
          "name": "stdout"
        }
      ]
    },
    {
      "cell_type": "markdown",
      "metadata": {
        "id": "SikoLTIajn_Q",
        "colab_type": "text"
      },
      "source": [
        "The test set is 40 times larger than the training set - seems counterintuitive. Have they been mixed up? For now, let's proceed without worrying about this. Once we get to training our model, we can reverse the datasets and see how it affects our results.\n",
        "\n",
        "Let's do a first inspection of our data."
      ]
    },
    {
      "cell_type": "code",
      "metadata": {
        "id": "nnBXpYqRkCC3",
        "colab_type": "code",
        "colab": {
          "base_uri": "https://localhost:8080/",
          "height": 204
        },
        "outputId": "529b5a0d-2f5f-44bf-c27b-8619d3f245ad"
      },
      "source": [
        "training_data.head()"
      ],
      "execution_count": null,
      "outputs": [
        {
          "output_type": "execute_result",
          "data": {
            "text/html": [
              "<div>\n",
              "<style scoped>\n",
              "    .dataframe tbody tr th:only-of-type {\n",
              "        vertical-align: middle;\n",
              "    }\n",
              "\n",
              "    .dataframe tbody tr th {\n",
              "        vertical-align: top;\n",
              "    }\n",
              "\n",
              "    .dataframe thead th {\n",
              "        text-align: right;\n",
              "    }\n",
              "</style>\n",
              "<table border=\"1\" class=\"dataframe\">\n",
              "  <thead>\n",
              "    <tr style=\"text-align: right;\">\n",
              "      <th></th>\n",
              "      <th>0</th>\n",
              "      <th>1</th>\n",
              "      <th>2</th>\n",
              "      <th>3</th>\n",
              "      <th>4</th>\n",
              "      <th>5</th>\n",
              "      <th>6</th>\n",
              "      <th>7</th>\n",
              "      <th>8</th>\n",
              "      <th>9</th>\n",
              "      <th>10</th>\n",
              "    </tr>\n",
              "  </thead>\n",
              "  <tbody>\n",
              "    <tr>\n",
              "      <th>0</th>\n",
              "      <td>1</td>\n",
              "      <td>10</td>\n",
              "      <td>1</td>\n",
              "      <td>11</td>\n",
              "      <td>1</td>\n",
              "      <td>13</td>\n",
              "      <td>1</td>\n",
              "      <td>12</td>\n",
              "      <td>1</td>\n",
              "      <td>1</td>\n",
              "      <td>9</td>\n",
              "    </tr>\n",
              "    <tr>\n",
              "      <th>1</th>\n",
              "      <td>2</td>\n",
              "      <td>11</td>\n",
              "      <td>2</td>\n",
              "      <td>13</td>\n",
              "      <td>2</td>\n",
              "      <td>10</td>\n",
              "      <td>2</td>\n",
              "      <td>12</td>\n",
              "      <td>2</td>\n",
              "      <td>1</td>\n",
              "      <td>9</td>\n",
              "    </tr>\n",
              "    <tr>\n",
              "      <th>2</th>\n",
              "      <td>3</td>\n",
              "      <td>12</td>\n",
              "      <td>3</td>\n",
              "      <td>11</td>\n",
              "      <td>3</td>\n",
              "      <td>13</td>\n",
              "      <td>3</td>\n",
              "      <td>10</td>\n",
              "      <td>3</td>\n",
              "      <td>1</td>\n",
              "      <td>9</td>\n",
              "    </tr>\n",
              "    <tr>\n",
              "      <th>3</th>\n",
              "      <td>4</td>\n",
              "      <td>10</td>\n",
              "      <td>4</td>\n",
              "      <td>11</td>\n",
              "      <td>4</td>\n",
              "      <td>1</td>\n",
              "      <td>4</td>\n",
              "      <td>13</td>\n",
              "      <td>4</td>\n",
              "      <td>12</td>\n",
              "      <td>9</td>\n",
              "    </tr>\n",
              "    <tr>\n",
              "      <th>4</th>\n",
              "      <td>4</td>\n",
              "      <td>1</td>\n",
              "      <td>4</td>\n",
              "      <td>13</td>\n",
              "      <td>4</td>\n",
              "      <td>12</td>\n",
              "      <td>4</td>\n",
              "      <td>11</td>\n",
              "      <td>4</td>\n",
              "      <td>10</td>\n",
              "      <td>9</td>\n",
              "    </tr>\n",
              "  </tbody>\n",
              "</table>\n",
              "</div>"
            ],
            "text/plain": [
              "   0   1   2   3   4   5   6   7   8   9   10\n",
              "0   1  10   1  11   1  13   1  12   1   1   9\n",
              "1   2  11   2  13   2  10   2  12   2   1   9\n",
              "2   3  12   3  11   3  13   3  10   3   1   9\n",
              "3   4  10   4  11   4   1   4  13   4  12   9\n",
              "4   4   1   4  13   4  12   4  11   4  10   9"
            ]
          },
          "metadata": {
            "tags": []
          },
          "execution_count": 4
        }
      ]
    },
    {
      "cell_type": "markdown",
      "metadata": {
        "id": "v7uokrVMkLGh",
        "colab_type": "text"
      },
      "source": [
        "There are 11 columns. Each of the 5 cards has 2 columns(suit and rank), and at the end there is a column noting the corresponding poker hand. Let's give the columns better names."
      ]
    },
    {
      "cell_type": "code",
      "metadata": {
        "id": "kjvF3XyWg33W",
        "colab_type": "code",
        "colab": {}
      },
      "source": [
        "# renaming columns\n",
        "training_data.columns=['S1', 'R1', 'S2', 'R2', 'S3', 'R3', 'S4', 'R4', 'S5', 'R5', 'Hand']\n",
        "testing_data.columns=['S1', 'R1', 'S2', 'R2', 'S3', 'R3', 'S4', 'R4', 'S5', 'R5', 'Hand']"
      ],
      "execution_count": null,
      "outputs": []
    },
    {
      "cell_type": "code",
      "metadata": {
        "id": "E2e_iU4fkxKd",
        "colab_type": "code",
        "colab": {
          "base_uri": "https://localhost:8080/",
          "height": 204
        },
        "outputId": "2df967f7-542c-4cdc-e27f-943ab3556019"
      },
      "source": [
        "training_data.head()"
      ],
      "execution_count": null,
      "outputs": [
        {
          "output_type": "execute_result",
          "data": {
            "text/html": [
              "<div>\n",
              "<style scoped>\n",
              "    .dataframe tbody tr th:only-of-type {\n",
              "        vertical-align: middle;\n",
              "    }\n",
              "\n",
              "    .dataframe tbody tr th {\n",
              "        vertical-align: top;\n",
              "    }\n",
              "\n",
              "    .dataframe thead th {\n",
              "        text-align: right;\n",
              "    }\n",
              "</style>\n",
              "<table border=\"1\" class=\"dataframe\">\n",
              "  <thead>\n",
              "    <tr style=\"text-align: right;\">\n",
              "      <th></th>\n",
              "      <th>S1</th>\n",
              "      <th>R1</th>\n",
              "      <th>S2</th>\n",
              "      <th>R2</th>\n",
              "      <th>S3</th>\n",
              "      <th>R3</th>\n",
              "      <th>S4</th>\n",
              "      <th>R4</th>\n",
              "      <th>S5</th>\n",
              "      <th>R5</th>\n",
              "      <th>Hand</th>\n",
              "    </tr>\n",
              "  </thead>\n",
              "  <tbody>\n",
              "    <tr>\n",
              "      <th>0</th>\n",
              "      <td>1</td>\n",
              "      <td>10</td>\n",
              "      <td>1</td>\n",
              "      <td>11</td>\n",
              "      <td>1</td>\n",
              "      <td>13</td>\n",
              "      <td>1</td>\n",
              "      <td>12</td>\n",
              "      <td>1</td>\n",
              "      <td>1</td>\n",
              "      <td>9</td>\n",
              "    </tr>\n",
              "    <tr>\n",
              "      <th>1</th>\n",
              "      <td>2</td>\n",
              "      <td>11</td>\n",
              "      <td>2</td>\n",
              "      <td>13</td>\n",
              "      <td>2</td>\n",
              "      <td>10</td>\n",
              "      <td>2</td>\n",
              "      <td>12</td>\n",
              "      <td>2</td>\n",
              "      <td>1</td>\n",
              "      <td>9</td>\n",
              "    </tr>\n",
              "    <tr>\n",
              "      <th>2</th>\n",
              "      <td>3</td>\n",
              "      <td>12</td>\n",
              "      <td>3</td>\n",
              "      <td>11</td>\n",
              "      <td>3</td>\n",
              "      <td>13</td>\n",
              "      <td>3</td>\n",
              "      <td>10</td>\n",
              "      <td>3</td>\n",
              "      <td>1</td>\n",
              "      <td>9</td>\n",
              "    </tr>\n",
              "    <tr>\n",
              "      <th>3</th>\n",
              "      <td>4</td>\n",
              "      <td>10</td>\n",
              "      <td>4</td>\n",
              "      <td>11</td>\n",
              "      <td>4</td>\n",
              "      <td>1</td>\n",
              "      <td>4</td>\n",
              "      <td>13</td>\n",
              "      <td>4</td>\n",
              "      <td>12</td>\n",
              "      <td>9</td>\n",
              "    </tr>\n",
              "    <tr>\n",
              "      <th>4</th>\n",
              "      <td>4</td>\n",
              "      <td>1</td>\n",
              "      <td>4</td>\n",
              "      <td>13</td>\n",
              "      <td>4</td>\n",
              "      <td>12</td>\n",
              "      <td>4</td>\n",
              "      <td>11</td>\n",
              "      <td>4</td>\n",
              "      <td>10</td>\n",
              "      <td>9</td>\n",
              "    </tr>\n",
              "  </tbody>\n",
              "</table>\n",
              "</div>"
            ],
            "text/plain": [
              "   S1  R1  S2  R2  S3  R3  S4  R4  S5  R5  Hand\n",
              "0   1  10   1  11   1  13   1  12   1   1     9\n",
              "1   2  11   2  13   2  10   2  12   2   1     9\n",
              "2   3  12   3  11   3  13   3  10   3   1     9\n",
              "3   4  10   4  11   4   1   4  13   4  12     9\n",
              "4   4   1   4  13   4  12   4  11   4  10     9"
            ]
          },
          "metadata": {
            "tags": []
          },
          "execution_count": 6
        }
      ]
    },
    {
      "cell_type": "markdown",
      "metadata": {
        "id": "B1pmiM-Fk5UI",
        "colab_type": "text"
      },
      "source": [
        "That's better. Consulting the [dataset documentation](https://archive.ics.uci.edu/ml/datasets/Poker+Hand), we can learn the following about the columns:\n",
        "\n",
        "The suit columns (starting with 'S'):\n",
        "\n",
        "* Ordinal (1-4) representing {Hearts, Spades, Diamonds, Clubs}\n",
        "\n",
        "\n",
        "The rank columns (starting with 'R'): \n",
        "\n",
        "* Numerical (1-13) representing (Ace, 2, 3, ... , Queen, King) \n",
        "\n",
        "\n",
        "The 'Hand' column: Ordinal (0-9) \n",
        "\n",
        "\n",
        " * 0: Nothing in hand; not a recognized poker hand \n",
        "\n",
        " * 1: One pair; one pair of equal ranks within five cards \n",
        "\n",
        " * 2: Two pairs; two pairs of equal ranks within five cards \n",
        "\n",
        "* 3: Three of a kind; three equal ranks within five cards \n",
        "\n",
        "* 4: Straight; five cards, sequentially ranked with no gaps \n",
        "\n",
        "* 5: Flush; five cards with the same suit \n",
        "\n",
        "* 6: Full house; pair + different rank three of a kind \n",
        "\n",
        "* 7: Four of a kind; four equal ranks within five cards \n",
        "\n",
        "* 8: Straight flush; straight + flush \n",
        "\n",
        "* 9: Royal flush; {Ace, King, Queen, Jack, Ten} + flush \n",
        "\n",
        "\n",
        "Let's follow our hypothesis and see if we can get descent results with a Decision Tree model."
      ]
    },
    {
      "cell_type": "code",
      "metadata": {
        "id": "Dx-YXKK1kgfU",
        "colab_type": "code",
        "colab": {}
      },
      "source": [
        "# diving independent and dependent variables into x and y\n",
        "x_train = training_data.iloc[:,:-1]\n",
        "y_train = training_data.iloc[:,-1]\n",
        "\n",
        "x_test = testing_data.iloc[:,:-1]\n",
        "y_test = testing_data.iloc[:,-1]"
      ],
      "execution_count": null,
      "outputs": []
    },
    {
      "cell_type": "code",
      "metadata": {
        "id": "Wl7MggzGmZMe",
        "colab_type": "code",
        "colab": {}
      },
      "source": [
        "# function to apply the data to a Decision Tree model\n",
        "def decisionTree(x_train, y_train, x_test, y_test):\n",
        "  classifier = DecisionTreeClassifier(criterion = 'gini', random_state = 0)\n",
        "  classifier.fit(x_train, y_train)\n",
        "  global y_pred\n",
        "  y_pred = classifier.predict(x_test)\n",
        "  accuracy_pct = round(accuracy_score(y_test, y_pred) * 100, 6)\n",
        "  print('The model is ' + str(accuracy_pct) + '% accurate')"
      ],
      "execution_count": null,
      "outputs": []
    },
    {
      "cell_type": "code",
      "metadata": {
        "id": "b_s5xwVwmncu",
        "colab_type": "code",
        "colab": {
          "base_uri": "https://localhost:8080/",
          "height": 34
        },
        "outputId": "195cce30-defe-4509-ac22-6e0afcee155d"
      },
      "source": [
        "decisionTree(x_train, y_train, x_test, y_test)"
      ],
      "execution_count": null,
      "outputs": [
        {
          "output_type": "stream",
          "text": [
            "The model is 47.9303% accurate\n"
          ],
          "name": "stdout"
        }
      ]
    },
    {
      "cell_type": "markdown",
      "metadata": {
        "id": "HPAewqWQmyP5",
        "colab_type": "text"
      },
      "source": [
        "Only 48 %! Perhaps our hypothesis was wrong - a decision tree looks like a terrible choice. Let's try a few other models and see if it helps."
      ]
    },
    {
      "cell_type": "code",
      "metadata": {
        "id": "9P7r3XRSnFId",
        "colab_type": "code",
        "colab": {}
      },
      "source": [
        "# function to apply the data to a few different classification models\n",
        "def tryManyModels(x_train, y_train, x_test, y_test):\n",
        "  # feature scaling will be needed by some of the models\n",
        "  sc = StandardScaler()\n",
        "  x_train = sc.fit_transform(x_train)\n",
        "  x_test = sc.transform(x_test)\n",
        "\n",
        "  # Logistic Regression\n",
        "  from sklearn.linear_model import LogisticRegression\n",
        "  classifier = LogisticRegression(random_state = 0)\n",
        "  classifier.fit(x_train, y_train)\n",
        "  y_pred = classifier.predict(x_test)\n",
        "  accuracy_pct = round(accuracy_score(y_test, y_pred) * 100, 2)\n",
        "  print('Logistic Regression is ' + str(accuracy_pct) + '% accurate')\n",
        "\n",
        "  # K-nearest neighbors\n",
        "  from sklearn.neighbors import KNeighborsClassifier\n",
        "  classifier = KNeighborsClassifier(n_neighbors = 5, metric = 'minkowski', p = 2)\n",
        "  classifier.fit(x_train, y_train)\n",
        "  y_pred = classifier.predict(x_test)\n",
        "  accuracy_pct = round(accuracy_score(y_test, y_pred) * 100, 2)\n",
        "  print('K-nearest neighbors is ' + str(accuracy_pct) + '% accurate')\n",
        "\n",
        "  # Support Vector Machine\n",
        "  from sklearn.svm import SVC\n",
        "  classifier = SVC(kernel = 'linear', random_state = 0)\n",
        "  classifier.fit(x_train, y_train)\n",
        "  y_pred = classifier.predict(x_test)\n",
        "  accuracy_pct = round(accuracy_score(y_test, y_pred) * 100, 2)\n",
        "  print('SVC is ' + str(accuracy_pct) + '% accurate')\n",
        "\n",
        "  # Kernel SVM\n",
        "  from sklearn.svm import SVC\n",
        "  classifier = SVC(kernel = 'rbf', random_state = 0)\n",
        "  classifier.fit(x_train, y_train)\n",
        "  y_pred = classifier.predict(x_test)\n",
        "  accuracy_pct = round(accuracy_score(y_test, y_pred) * 100, 2)\n",
        "  print('Kernel SVM is ' + str(accuracy_pct) + '% accurate')\n",
        "\n",
        "  # Naive Bayes\n",
        "  from sklearn.naive_bayes import GaussianNB\n",
        "  classifier = GaussianNB()\n",
        "  classifier.fit(x_train, y_train)\n",
        "  y_pred = classifier.predict(x_test)\n",
        "  accuracy_pct = round(accuracy_score(y_test, y_pred) * 100, 2)\n",
        "  print('Naive Bayes is ' + str(accuracy_pct) + '% accurate')\n",
        "\n",
        "  # Random Forest\n",
        "  from sklearn.ensemble import RandomForestClassifier\n",
        "  classifier = RandomForestClassifier(n_estimators = 10, criterion = 'gini', random_state = 0)\n",
        "  classifier.fit(x_train, y_train)\n",
        "  y_pred = classifier.predict(x_test)\n",
        "  accuracy_pct = round(accuracy_score(y_test, y_pred) * 100, 2)\n",
        "  print('Random Forest is ' + str(accuracy_pct) + '% accurate')"
      ],
      "execution_count": null,
      "outputs": []
    },
    {
      "cell_type": "code",
      "metadata": {
        "id": "xtXIuxfEnpYE",
        "colab_type": "code",
        "colab": {
          "base_uri": "https://localhost:8080/",
          "height": 272
        },
        "outputId": "7ee19e13-2eb5-4ab1-8cbc-97c7b906e0ad"
      },
      "source": [
        "tryManyModels(x_train, y_train, x_test, y_test)"
      ],
      "execution_count": null,
      "outputs": [
        {
          "output_type": "stream",
          "text": [
            "/usr/local/lib/python3.6/dist-packages/sklearn/linear_model/_logistic.py:940: ConvergenceWarning: lbfgs failed to converge (status=1):\n",
            "STOP: TOTAL NO. of ITERATIONS REACHED LIMIT.\n",
            "\n",
            "Increase the number of iterations (max_iter) or scale the data as shown in:\n",
            "    https://scikit-learn.org/stable/modules/preprocessing.html\n",
            "Please also refer to the documentation for alternative solver options:\n",
            "    https://scikit-learn.org/stable/modules/linear_model.html#logistic-regression\n",
            "  extra_warning_msg=_LOGISTIC_SOLVER_CONVERGENCE_MSG)\n"
          ],
          "name": "stderr"
        },
        {
          "output_type": "stream",
          "text": [
            "Logistic Regression is 50.12% accurate\n",
            "K-nearest neighbors is 51.18% accurate\n",
            "SVC is 50.12% accurate\n",
            "Kernel SVM is 55.68% accurate\n",
            "Naive Bayes is 50.12% accurate\n",
            "Decision Tree is 47.92% accurate\n",
            "Random Forest is 56.57% accurate\n"
          ],
          "name": "stdout"
        }
      ]
    },
    {
      "cell_type": "markdown",
      "metadata": {
        "id": "OtGVtOg8n3n7",
        "colab_type": "text"
      },
      "source": [
        "Logistic Regression returned an warning message above its score - we'll disregard that for now - it's still easy to see that our main problem is not the choice of model as they all hover around 50%. It's time to see if we can enhance our data.\n"
      ]
    },
    {
      "cell_type": "code",
      "metadata": {
        "id": "BLuXzpAeoADz",
        "colab_type": "code",
        "colab": {
          "base_uri": "https://localhost:8080/",
          "height": 204
        },
        "outputId": "a53668ac-e4c7-4f9b-e5f7-5c47abdac0d5"
      },
      "source": [
        "x_train.head()"
      ],
      "execution_count": null,
      "outputs": [
        {
          "output_type": "execute_result",
          "data": {
            "text/html": [
              "<div>\n",
              "<style scoped>\n",
              "    .dataframe tbody tr th:only-of-type {\n",
              "        vertical-align: middle;\n",
              "    }\n",
              "\n",
              "    .dataframe tbody tr th {\n",
              "        vertical-align: top;\n",
              "    }\n",
              "\n",
              "    .dataframe thead th {\n",
              "        text-align: right;\n",
              "    }\n",
              "</style>\n",
              "<table border=\"1\" class=\"dataframe\">\n",
              "  <thead>\n",
              "    <tr style=\"text-align: right;\">\n",
              "      <th></th>\n",
              "      <th>S1</th>\n",
              "      <th>R1</th>\n",
              "      <th>S2</th>\n",
              "      <th>R2</th>\n",
              "      <th>S3</th>\n",
              "      <th>R3</th>\n",
              "      <th>S4</th>\n",
              "      <th>R4</th>\n",
              "      <th>S5</th>\n",
              "      <th>R5</th>\n",
              "    </tr>\n",
              "  </thead>\n",
              "  <tbody>\n",
              "    <tr>\n",
              "      <th>0</th>\n",
              "      <td>1</td>\n",
              "      <td>10</td>\n",
              "      <td>1</td>\n",
              "      <td>11</td>\n",
              "      <td>1</td>\n",
              "      <td>13</td>\n",
              "      <td>1</td>\n",
              "      <td>12</td>\n",
              "      <td>1</td>\n",
              "      <td>1</td>\n",
              "    </tr>\n",
              "    <tr>\n",
              "      <th>1</th>\n",
              "      <td>2</td>\n",
              "      <td>11</td>\n",
              "      <td>2</td>\n",
              "      <td>13</td>\n",
              "      <td>2</td>\n",
              "      <td>10</td>\n",
              "      <td>2</td>\n",
              "      <td>12</td>\n",
              "      <td>2</td>\n",
              "      <td>1</td>\n",
              "    </tr>\n",
              "    <tr>\n",
              "      <th>2</th>\n",
              "      <td>3</td>\n",
              "      <td>12</td>\n",
              "      <td>3</td>\n",
              "      <td>11</td>\n",
              "      <td>3</td>\n",
              "      <td>13</td>\n",
              "      <td>3</td>\n",
              "      <td>10</td>\n",
              "      <td>3</td>\n",
              "      <td>1</td>\n",
              "    </tr>\n",
              "    <tr>\n",
              "      <th>3</th>\n",
              "      <td>4</td>\n",
              "      <td>10</td>\n",
              "      <td>4</td>\n",
              "      <td>11</td>\n",
              "      <td>4</td>\n",
              "      <td>1</td>\n",
              "      <td>4</td>\n",
              "      <td>13</td>\n",
              "      <td>4</td>\n",
              "      <td>12</td>\n",
              "    </tr>\n",
              "    <tr>\n",
              "      <th>4</th>\n",
              "      <td>4</td>\n",
              "      <td>1</td>\n",
              "      <td>4</td>\n",
              "      <td>13</td>\n",
              "      <td>4</td>\n",
              "      <td>12</td>\n",
              "      <td>4</td>\n",
              "      <td>11</td>\n",
              "      <td>4</td>\n",
              "      <td>10</td>\n",
              "    </tr>\n",
              "  </tbody>\n",
              "</table>\n",
              "</div>"
            ],
            "text/plain": [
              "   S1  R1  S2  R2  S3  R3  S4  R4  S5  R5\n",
              "0   1  10   1  11   1  13   1  12   1   1\n",
              "1   2  11   2  13   2  10   2  12   2   1\n",
              "2   3  12   3  11   3  13   3  10   3   1\n",
              "3   4  10   4  11   4   1   4  13   4  12\n",
              "4   4   1   4  13   4  12   4  11   4  10"
            ]
          },
          "metadata": {
            "tags": []
          },
          "execution_count": 151
        }
      ]
    },
    {
      "cell_type": "markdown",
      "metadata": {
        "id": "U0re2i5XoDnr",
        "colab_type": "text"
      },
      "source": [
        "Frankly, these numbers would be pretty cumbersome to process for a human as well. Let's see if we can make it easier. What is the first thing a human does to evaluate a poker hand? It's probably to look for cards with the same rank, to see if there are any pairs, three of a kind etc. Let's create a feature that looks for cards with the same ranks. "
      ]
    },
    {
      "cell_type": "code",
      "metadata": {
        "id": "VgZS-J0Lh_0U",
        "colab_type": "code",
        "colab": {}
      },
      "source": [
        "# function to see how many cards have matching ranks \n",
        "# returns the two highest counts of matching ranks. \n",
        "# Example: the hand [4,4,7,9,10] returns (2,1) since there are 2 fours and 1 of everything else\n",
        "# The hand [4,4,6,6,6] returns (3,2) since there are 3 sixes and 2 fours\n",
        "def matchCounter(row):\n",
        "  match_counts = row.value_counts().nlargest(2)\n",
        "  return pd.Series([match_counts.iloc[0], match_counts.iloc[1]])\n",
        "\n",
        "# using function to create new features\n",
        "x_train[['match_count1', 'match_count2']] = x_train[['R1', 'R2', 'R3', 'R4', 'R5']].apply(matchCounter, axis = 1)\n",
        "x_test[['match_count1', 'match_count2']] = x_test[['R1', 'R2', 'R3', 'R4', 'R5']].apply(matchCounter, axis = 1)"
      ],
      "execution_count": null,
      "outputs": []
    },
    {
      "cell_type": "markdown",
      "metadata": {
        "id": "kbTxUr8pOx6f",
        "colab_type": "text"
      },
      "source": [
        "This should give the model a fair chance to determine many hands, since:\n",
        "* 1 pair always comes out as (2,1)\n",
        "* 2 pairs as (2,2)\n",
        "* Three of a kind as (3,1)\n",
        "* Four of a kind as (4,1)\n",
        "* Full house as (3,2)\n",
        "\n",
        "Let's see if our two new columns help the model!"
      ]
    },
    {
      "cell_type": "code",
      "metadata": {
        "id": "nctFyP1ut-W_",
        "colab_type": "code",
        "colab": {
          "base_uri": "https://localhost:8080/",
          "height": 34
        },
        "outputId": "5ba257ec-bfac-484a-f3d6-14b05f59a1b3"
      },
      "source": [
        "#trying the Decision Tree model again\n",
        "decisionTree(x_train, y_train, x_test, y_test)"
      ],
      "execution_count": 14,
      "outputs": [
        {
          "output_type": "stream",
          "text": [
            "The model is 98.7694% accurate\n"
          ],
          "name": "stdout"
        }
      ]
    },
    {
      "cell_type": "markdown",
      "metadata": {
        "id": "UxMx7GlnsLCc",
        "colab_type": "text"
      },
      "source": [
        "98.8%! It's incredible what a difference two new columns can make!\n",
        "\n",
        "Let's see which poker hands we're still struggling with. What are the remaining 1.2%?"
      ]
    },
    {
      "cell_type": "code",
      "metadata": {
        "id": "D8Fhw_iSrWgd",
        "colab_type": "code",
        "colab": {
          "base_uri": "https://localhost:8080/",
          "height": 281
        },
        "outputId": "033bf604-ed5d-4704-df35-377a41003509"
      },
      "source": [
        "#function to vizualize our loss\n",
        "def visualizeLoss():\n",
        "  plt.hist((y_pred,y_test),bins=np.arange(11)-0.5,log=True)\n",
        "  plt.legend(labels=('Predictions','Actuals'))\n",
        "  plt.xticks(range(10))\n",
        "  plt.title('Predictions vs Actuals - log scale')\n",
        "  plt.show()\n",
        "\n",
        "visualizeLoss()"
      ],
      "execution_count": 16,
      "outputs": [
        {
          "output_type": "display_data",
          "data": {
            "image/png": "[encoded data removed]",
            "text/plain": [
              "<Figure size 432x288 with 1 Axes>"
            ]
          },
          "metadata": {
            "tags": [],
            "needs_background": "light"
          }
        }
      ]
    },
    {
      "cell_type": "markdown",
      "metadata": {
        "id": "1D78lNI66UOC",
        "colab_type": "text"
      },
      "source": [
        "The main problem areas are 5, 8, and 9. Referring back to the [dataset description](https://archive.ics.uci.edu/ml/datasets/Poker+Hand), that's Flush, Straight Flush, and Royal Straight Flush, respecticely. Let's add a feature to help determine whether a hand is a flush or not."
      ]
    },
    {
      "cell_type": "code",
      "metadata": {
        "id": "FltVoPjdDaSE",
        "colab_type": "code",
        "colab": {}
      },
      "source": [
        "# adding feature that counts the number of different suits (a value of 1 means all cards have the same suit, i.e. flush)\n",
        "x_train['flush'] = x_train[['S1', 'S2', 'S3', 'S4', 'S5']].apply(lambda x: len(np.unique(x)), axis = 1)\n",
        "x_test['flush'] = x_test[['S1', 'S2', 'S3', 'S4', 'S5']].apply(lambda x: len(np.unique(x)), axis = 1)"
      ],
      "execution_count": 17,
      "outputs": []
    },
    {
      "cell_type": "code",
      "metadata": {
        "id": "F_zhIBRJEOge",
        "colab_type": "code",
        "colab": {
          "base_uri": "https://localhost:8080/",
          "height": 34
        },
        "outputId": "79b3d678-6459-411d-a4b7-00875603a96b"
      },
      "source": [
        "# trying the Decision Tree model again\n",
        "decisionTree(x_train, y_train, x_test, y_test)"
      ],
      "execution_count": 18,
      "outputs": [
        {
          "output_type": "stream",
          "text": [
            "The model is 99.345% accurate\n"
          ],
          "name": "stdout"
        }
      ]
    },
    {
      "cell_type": "markdown",
      "metadata": {
        "id": "SD-BgYKO1pKm",
        "colab_type": "text"
      },
      "source": [
        "Getting closer! What are the remaining issues?"
      ]
    },
    {
      "cell_type": "code",
      "metadata": {
        "id": "GwWB26zD6yHT",
        "colab_type": "code",
        "colab": {
          "base_uri": "https://localhost:8080/",
          "height": 281
        },
        "outputId": "f30d86d8-d17b-45ec-91a3-0eef282b9ff6"
      },
      "source": [
        "# visualizing\n",
        "visualizeLoss()"
      ],
      "execution_count": 19,
      "outputs": [
        {
          "output_type": "display_data",
          "data": {
            "image/png": "[encoded data removed]",
            "text/plain": [
              "<Figure size 432x288 with 1 Axes>"
            ]
          },
          "metadata": {
            "tags": [],
            "needs_background": "light"
          }
        }
      ]
    },
    {
      "cell_type": "markdown",
      "metadata": {
        "id": "cV858kL77PED",
        "colab_type": "text"
      },
      "source": [
        "Three tricky areas right now are category 8, 9 and 4 - those are straights. I could imagine our model struggling with straights ranging from 10 to ace [10,11,12,13,1]. Let's exchange all 1s for 14 to get a more logical [10,11,12,13,14]."
      ]
    },
    {
      "cell_type": "code",
      "metadata": {
        "id": "o_879Ml-cJYk",
        "colab_type": "code",
        "colab": {}
      },
      "source": [
        "x_train['R1'][x_train['R1'] == 1] = 14\n",
        "x_train['R2'][x_train['R2'] == 1] = 14\n",
        "x_train['R3'][x_train['R3'] == 1] = 14\n",
        "x_train['R4'][x_train['R4'] == 1] = 14\n",
        "x_train['R5'][x_train['R5'] == 1] = 14\n",
        "\n",
        "x_test['R1'][x_test['R1'] == 1] = 14\n",
        "x_test['R2'][x_test['R2'] == 1] = 14\n",
        "x_test['R3'][x_test['R3'] == 1] = 14\n",
        "x_test['R4'][x_test['R4'] == 1] = 14\n",
        "x_test['R5'][x_test['R5'] == 1] = 14"
      ],
      "execution_count": 20,
      "outputs": []
    },
    {
      "cell_type": "markdown",
      "metadata": {
        "id": "6jFsIDNKcz1P",
        "colab_type": "text"
      },
      "source": [
        "Let's also create a feature to help distinguish a straight. A helpful feature could perhaps be the span between the highest and the lowest card. In a straight, e.g. [3, 4, 5, 6, 7], this span will always be 4."
      ]
    },
    {
      "cell_type": "code",
      "metadata": {
        "id": "D1p-UimJE4Cp",
        "colab_type": "code",
        "colab": {}
      },
      "source": [
        "x_train['span'] = x_train[['R1', 'R2', 'R3', 'R4', 'R5']].apply(lambda x: max(x)-min(x), axis = 1)\n",
        "x_test['span'] = x_test[['R1', 'R2', 'R3', 'R4', 'R5']].apply(lambda x: max(x)-min(x), axis = 1)"
      ],
      "execution_count": 21,
      "outputs": []
    },
    {
      "cell_type": "code",
      "metadata": {
        "id": "Dp5NyU0e8CEH",
        "colab_type": "code",
        "colab": {
          "base_uri": "https://localhost:8080/",
          "height": 34
        },
        "outputId": "d6239114-9bd7-4eac-a857-2749d3434d90"
      },
      "source": [
        "# trying the Decision Tree model again\n",
        "decisionTree(x_train, y_train, x_test, y_test)"
      ],
      "execution_count": 22,
      "outputs": [
        {
          "output_type": "stream",
          "text": [
            "The model is 99.9636% accurate\n"
          ],
          "name": "stdout"
        }
      ]
    },
    {
      "cell_type": "markdown",
      "metadata": {
        "id": "IDjWjl2j8RJ7",
        "colab_type": "text"
      },
      "source": [
        "So close now! What are the remaining few issues?"
      ]
    },
    {
      "cell_type": "code",
      "metadata": {
        "id": "j6vydOty8LZn",
        "colab_type": "code",
        "colab": {
          "base_uri": "https://localhost:8080/",
          "height": 281
        },
        "outputId": "2dd899c8-8e37-4361-d57d-6198fac5faad"
      },
      "source": [
        "# visualizing\n",
        "visualizeLoss()"
      ],
      "execution_count": 23,
      "outputs": [
        {
          "output_type": "display_data",
          "data": {
            "image/png": "[encoded data removed]",
            "text/plain": [
              "<Figure size 432x288 with 1 Axes>"
            ]
          },
          "metadata": {
            "tags": [],
            "needs_background": "light"
          }
        }
      ]
    },
    {
      "cell_type": "markdown",
      "metadata": {
        "id": "M4CpJlO18aT_",
        "colab_type": "text"
      },
      "source": [
        "Looks like we're predicting too many 8's and 9's. Let's start with the 9's - Royal Straight Flush. A feature that should help us predict them is the sum of the card ranks. A Royal Straight Flush should always amount to 10+11+12+13+14 = 60"
      ]
    },
    {
      "cell_type": "code",
      "metadata": {
        "id": "cN0FFV7a89Zz",
        "colab_type": "code",
        "colab": {}
      },
      "source": [
        "x_train['sum'] = x_train[['R1', 'R2', 'R3', 'R4', 'R5']].apply(lambda x: sum(x), axis = 1)\n",
        "x_test['sum'] = x_test[['R1', 'R2', 'R3', 'R4', 'R5']].apply(lambda x: sum(x), axis = 1)"
      ],
      "execution_count": 24,
      "outputs": []
    },
    {
      "cell_type": "code",
      "metadata": {
        "id": "0PzLzSNs9Y2K",
        "colab_type": "code",
        "colab": {
          "base_uri": "https://localhost:8080/",
          "height": 34
        },
        "outputId": "f1b19916-380f-4380-cf43-ce05fc2d878f"
      },
      "source": [
        "# trying the Decision Tree model again\n",
        "decisionTree(x_train, y_train, x_test, y_test)"
      ],
      "execution_count": 25,
      "outputs": [
        {
          "output_type": "stream",
          "text": [
            "The model is 100.0% accurate\n"
          ],
          "name": "stdout"
        }
      ]
    },
    {
      "cell_type": "markdown",
      "metadata": {
        "id": "JS_EIHGhi_4H",
        "colab_type": "text"
      },
      "source": [
        "Sweet, we did it! Just look at this gorgeous image:"
      ]
    },
    {
      "cell_type": "code",
      "metadata": {
        "id": "zYu9BrQXYzPX",
        "colab_type": "code",
        "colab": {
          "base_uri": "https://localhost:8080/",
          "height": 281
        },
        "outputId": "f2b20c6e-4832-4d67-c53d-df5df6ea9182"
      },
      "source": [
        "# victory lap visualization\n",
        "visualizeLoss()"
      ],
      "execution_count": 26,
      "outputs": [
        {
          "output_type": "display_data",
          "data": {
            "image/png": "[encoded data removed]",
            "text/plain": [
              "<Figure size 432x288 with 1 Axes>"
            ]
          },
          "metadata": {
            "tags": [],
            "needs_background": "light"
          }
        }
      ]
    },
    {
      "cell_type": "markdown",
      "metadata": {
        "id": "BCxSmfBWjS7u",
        "colab_type": "text"
      },
      "source": [
        "And just for fun, let's see how the other models handle the new features:"
      ]
    },
    {
      "cell_type": "code",
      "metadata": {
        "id": "rlTbsGnnjSjN",
        "colab_type": "code",
        "colab": {
          "base_uri": "https://localhost:8080/",
          "height": 275
        },
        "outputId": "ccf6371d-c052-476e-b458-d6ad1724f53d"
      },
      "source": [
        "tryManyModels(x_train, y_train, x_test, y_test)"
      ],
      "execution_count": null,
      "outputs": [
        {
          "output_type": "stream",
          "text": [
            "/usr/local/lib/python3.6/dist-packages/sklearn/linear_model/_logistic.py:940: ConvergenceWarning: lbfgs failed to converge (status=1):\n",
            "STOP: TOTAL NO. of ITERATIONS REACHED LIMIT.\n",
            "\n",
            "Increase the number of iterations (max_iter) or scale the data as shown in:\n",
            "    https://scikit-learn.org/stable/modules/preprocessing.html\n",
            "Please also refer to the documentation for alternative solver options:\n",
            "    https://scikit-learn.org/stable/modules/linear_model.html#logistic-regression\n",
            "  extra_warning_msg=_LOGISTIC_SOLVER_CONVERGENCE_MSG)\n"
          ],
          "name": "stderr"
        },
        {
          "output_type": "stream",
          "text": [
            "Logistic Regression is 99.72% accurate\n",
            "K-nearest neighbors is 98.36% accurate\n",
            "SVC is 99.96% accurate\n",
            "Kernel SVM is 99.58% accurate\n",
            "Naive Bayes is 99.72% accurate\n",
            "Random Forest is 99.87% accurate\n"
          ],
          "name": "stdout"
        }
      ]
    },
    {
      "cell_type": "markdown",
      "metadata": {
        "id": "iRqm1gJFvsQL",
        "colab_type": "text"
      },
      "source": [
        "#Comments\n",
        "* Even though the Decision Tree model looked weak in the first comparison, it is now the only one to reach 100%. The original hypothesis holds true!\n",
        "* The initial concern about the testing set being larger than the training set proved unwarranted. 25000 entries were enough to train a perfect model.\n",
        "* Even though we reached 100% accuracy, there's definitely room for improvement. For instance, the first feature generation using pd.Series.value_counts.nlargest is pretty slow/inefficient (50-100x slower than the other feature generations). It could probably be rewritten to run faster.\n",
        "\n",
        "#Other directions\n",
        "\n",
        "There are definitely other strategies we could try here, for example:\n",
        "\n",
        "* Sorting the cards in ascending order\n",
        "* Changing the dataset structure completely:\n",
        "  * Using 5 columns, one for each card, and using values between 0 and 51 (a deck of cards has 52 different cards). \n",
        "  * Using 52 categorical columns - one for each possible card - and for each row assign the value 1 to the five columns matching the cards, 0 to the rest\n",
        "* Applying the raw data to a Neural Network instead of creating new features"
      ]
    }
  ]
}

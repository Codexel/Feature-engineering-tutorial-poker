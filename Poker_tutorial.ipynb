{
 "cells": [
  {
   "cell_type": "markdown",
   "metadata": {
    "colab_type": "text",
    "id": "I7soEcrkjD0g"
   },
   "source": [
    "# Feature engineering tutorial: Poker Hand Classification\n",
    "\n",
    "This is a beginner's feature engineering tutorial. We're going to use the [UCI Poker dataset](https://archive.ics.uci.edu/ml/datasets/Poker+Hand). Each row of data describes five cards, along with a label for the corresponding poker hand. Our mission in this tutorial is to create a model which accepts five cards and determines which poker hand they create.\n",
    "\n",
    "Starting hypothesis: a decision tree will work well, since poker hands follow a strict logic, free of outliers."
   ]
  },
  {
   "cell_type": "code",
   "execution_count": 1,
   "metadata": {
    "colab": {},
    "colab_type": "code",
    "id": "RXOtLcorgtTA"
   },
   "outputs": [],
   "source": [
    "# essential imports\n",
    "import numpy as np\n",
    "import pandas as pd\n",
    "import matplotlib.pyplot as plt\n",
    "from sklearn.tree import DecisionTreeClassifier\n",
    "from sklearn.metrics import accuracy_score\n",
    "from sklearn.preprocessing import StandardScaler"
   ]
  },
  {
   "cell_type": "code",
   "execution_count": 2,
   "metadata": {
    "colab": {},
    "colab_type": "code",
    "id": "6HrY0hsYgua7"
   },
   "outputs": [],
   "source": [
    "# reading in the data\n",
    "training_data_url = 'https://archive.ics.uci.edu/ml/machine-learning-databases/poker/poker-hand-training-true.data'\n",
    "testing_data_url = 'https://archive.ics.uci.edu/ml/machine-learning-databases/poker/poker-hand-testing.data'\n",
    "\n",
    "training_data = pd.read_csv(training_data_url, header=None)\n",
    "testing_data = pd.read_csv(testing_data_url, header = None)"
   ]
  },
  {
   "cell_type": "code",
   "execution_count": 3,
   "metadata": {
    "colab": {
     "base_uri": "https://localhost:8080/",
     "height": 51
    },
    "colab_type": "code",
    "id": "peF9EJK9jeTK",
    "outputId": "c4957e1f-e1b2-4639-f39f-a60c225d8863"
   },
   "outputs": [
    {
     "name": "stdout",
     "output_type": "stream",
     "text": [
      "Entries in the training data: 25010\n",
      "Entries in the testing data: 1000000\n"
     ]
    }
   ],
   "source": [
    "# inspecting size of both sets\n",
    "print(f'Entries in the training data: {training_data.shape[0]}')\n",
    "print(f'Entries in the testing data: {testing_data.shape[0]}')"
   ]
  },
  {
   "cell_type": "markdown",
   "metadata": {
    "colab_type": "text",
    "id": "SikoLTIajn_Q"
   },
   "source": [
    "The test set is 40 times larger than the training set - seems counterintuitive. Have they been mixed up? For now, let's proceed without worrying about this. Once we get to training our model, we can reverse the datasets and see how it affects our results.\n",
    "\n",
    "Let's do a first inspection of our data."
   ]
  },
  {
   "cell_type": "code",
   "execution_count": 4,
   "metadata": {
    "colab": {
     "base_uri": "https://localhost:8080/",
     "height": 204
    },
    "colab_type": "code",
    "id": "nnBXpYqRkCC3",
    "outputId": "529b5a0d-2f5f-44bf-c27b-8619d3f245ad"
   },
   "outputs": [
    {
     "data": {
      "text/html": [
       "<div>\n",
       "<style scoped>\n",
       "    .dataframe tbody tr th:only-of-type {\n",
       "        vertical-align: middle;\n",
       "    }\n",
       "\n",
       "    .dataframe tbody tr th {\n",
       "        vertical-align: top;\n",
       "    }\n",
       "\n",
       "    .dataframe thead th {\n",
       "        text-align: right;\n",
       "    }\n",
       "</style>\n",
       "<table border=\"1\" class=\"dataframe\">\n",
       "  <thead>\n",
       "    <tr style=\"text-align: right;\">\n",
       "      <th></th>\n",
       "      <th>0</th>\n",
       "      <th>1</th>\n",
       "      <th>2</th>\n",
       "      <th>3</th>\n",
       "      <th>4</th>\n",
       "      <th>5</th>\n",
       "      <th>6</th>\n",
       "      <th>7</th>\n",
       "      <th>8</th>\n",
       "      <th>9</th>\n",
       "      <th>10</th>\n",
       "    </tr>\n",
       "  </thead>\n",
       "  <tbody>\n",
       "    <tr>\n",
       "      <th>0</th>\n",
       "      <td>1</td>\n",
       "      <td>10</td>\n",
       "      <td>1</td>\n",
       "      <td>11</td>\n",
       "      <td>1</td>\n",
       "      <td>13</td>\n",
       "      <td>1</td>\n",
       "      <td>12</td>\n",
       "      <td>1</td>\n",
       "      <td>1</td>\n",
       "      <td>9</td>\n",
       "    </tr>\n",
       "    <tr>\n",
       "      <th>1</th>\n",
       "      <td>2</td>\n",
       "      <td>11</td>\n",
       "      <td>2</td>\n",
       "      <td>13</td>\n",
       "      <td>2</td>\n",
       "      <td>10</td>\n",
       "      <td>2</td>\n",
       "      <td>12</td>\n",
       "      <td>2</td>\n",
       "      <td>1</td>\n",
       "      <td>9</td>\n",
       "    </tr>\n",
       "    <tr>\n",
       "      <th>2</th>\n",
       "      <td>3</td>\n",
       "      <td>12</td>\n",
       "      <td>3</td>\n",
       "      <td>11</td>\n",
       "      <td>3</td>\n",
       "      <td>13</td>\n",
       "      <td>3</td>\n",
       "      <td>10</td>\n",
       "      <td>3</td>\n",
       "      <td>1</td>\n",
       "      <td>9</td>\n",
       "    </tr>\n",
       "    <tr>\n",
       "      <th>3</th>\n",
       "      <td>4</td>\n",
       "      <td>10</td>\n",
       "      <td>4</td>\n",
       "      <td>11</td>\n",
       "      <td>4</td>\n",
       "      <td>1</td>\n",
       "      <td>4</td>\n",
       "      <td>13</td>\n",
       "      <td>4</td>\n",
       "      <td>12</td>\n",
       "      <td>9</td>\n",
       "    </tr>\n",
       "    <tr>\n",
       "      <th>4</th>\n",
       "      <td>4</td>\n",
       "      <td>1</td>\n",
       "      <td>4</td>\n",
       "      <td>13</td>\n",
       "      <td>4</td>\n",
       "      <td>12</td>\n",
       "      <td>4</td>\n",
       "      <td>11</td>\n",
       "      <td>4</td>\n",
       "      <td>10</td>\n",
       "      <td>9</td>\n",
       "    </tr>\n",
       "  </tbody>\n",
       "</table>\n",
       "</div>"
      ],
      "text/plain": [
       "   0   1   2   3   4   5   6   7   8   9   10\n",
       "0   1  10   1  11   1  13   1  12   1   1   9\n",
       "1   2  11   2  13   2  10   2  12   2   1   9\n",
       "2   3  12   3  11   3  13   3  10   3   1   9\n",
       "3   4  10   4  11   4   1   4  13   4  12   9\n",
       "4   4   1   4  13   4  12   4  11   4  10   9"
      ]
     },
     "execution_count": 4,
     "metadata": {},
     "output_type": "execute_result"
    }
   ],
   "source": [
    "training_data.head()"
   ]
  },
  {
   "cell_type": "markdown",
   "metadata": {
    "colab_type": "text",
    "id": "v7uokrVMkLGh"
   },
   "source": [
    "There are 11 columns. Each of the 5 cards has 2 columns(suit and rank), and at the end there is a column specifying the corresponding poker hand. Let's give the columns better names."
   ]
  },
  {
   "cell_type": "code",
   "execution_count": 5,
   "metadata": {
    "colab": {},
    "colab_type": "code",
    "id": "kjvF3XyWg33W"
   },
   "outputs": [],
   "source": [
    "# renaming columns\n",
    "training_data.columns=['S1', 'R1', 'S2', 'R2', 'S3', 'R3', 'S4', 'R4', 'S5', 'R5', 'Hand']\n",
    "testing_data.columns=['S1', 'R1', 'S2', 'R2', 'S3', 'R3', 'S4', 'R4', 'S5', 'R5', 'Hand']"
   ]
  },
  {
   "cell_type": "code",
   "execution_count": 6,
   "metadata": {
    "colab": {
     "base_uri": "https://localhost:8080/",
     "height": 204
    },
    "colab_type": "code",
    "id": "E2e_iU4fkxKd",
    "outputId": "2df967f7-542c-4cdc-e27f-943ab3556019"
   },
   "outputs": [
    {
     "data": {
      "text/html": [
       "<div>\n",
       "<style scoped>\n",
       "    .dataframe tbody tr th:only-of-type {\n",
       "        vertical-align: middle;\n",
       "    }\n",
       "\n",
       "    .dataframe tbody tr th {\n",
       "        vertical-align: top;\n",
       "    }\n",
       "\n",
       "    .dataframe thead th {\n",
       "        text-align: right;\n",
       "    }\n",
       "</style>\n",
       "<table border=\"1\" class=\"dataframe\">\n",
       "  <thead>\n",
       "    <tr style=\"text-align: right;\">\n",
       "      <th></th>\n",
       "      <th>S1</th>\n",
       "      <th>R1</th>\n",
       "      <th>S2</th>\n",
       "      <th>R2</th>\n",
       "      <th>S3</th>\n",
       "      <th>R3</th>\n",
       "      <th>S4</th>\n",
       "      <th>R4</th>\n",
       "      <th>S5</th>\n",
       "      <th>R5</th>\n",
       "      <th>Hand</th>\n",
       "    </tr>\n",
       "  </thead>\n",
       "  <tbody>\n",
       "    <tr>\n",
       "      <th>0</th>\n",
       "      <td>1</td>\n",
       "      <td>10</td>\n",
       "      <td>1</td>\n",
       "      <td>11</td>\n",
       "      <td>1</td>\n",
       "      <td>13</td>\n",
       "      <td>1</td>\n",
       "      <td>12</td>\n",
       "      <td>1</td>\n",
       "      <td>1</td>\n",
       "      <td>9</td>\n",
       "    </tr>\n",
       "    <tr>\n",
       "      <th>1</th>\n",
       "      <td>2</td>\n",
       "      <td>11</td>\n",
       "      <td>2</td>\n",
       "      <td>13</td>\n",
       "      <td>2</td>\n",
       "      <td>10</td>\n",
       "      <td>2</td>\n",
       "      <td>12</td>\n",
       "      <td>2</td>\n",
       "      <td>1</td>\n",
       "      <td>9</td>\n",
       "    </tr>\n",
       "    <tr>\n",
       "      <th>2</th>\n",
       "      <td>3</td>\n",
       "      <td>12</td>\n",
       "      <td>3</td>\n",
       "      <td>11</td>\n",
       "      <td>3</td>\n",
       "      <td>13</td>\n",
       "      <td>3</td>\n",
       "      <td>10</td>\n",
       "      <td>3</td>\n",
       "      <td>1</td>\n",
       "      <td>9</td>\n",
       "    </tr>\n",
       "    <tr>\n",
       "      <th>3</th>\n",
       "      <td>4</td>\n",
       "      <td>10</td>\n",
       "      <td>4</td>\n",
       "      <td>11</td>\n",
       "      <td>4</td>\n",
       "      <td>1</td>\n",
       "      <td>4</td>\n",
       "      <td>13</td>\n",
       "      <td>4</td>\n",
       "      <td>12</td>\n",
       "      <td>9</td>\n",
       "    </tr>\n",
       "    <tr>\n",
       "      <th>4</th>\n",
       "      <td>4</td>\n",
       "      <td>1</td>\n",
       "      <td>4</td>\n",
       "      <td>13</td>\n",
       "      <td>4</td>\n",
       "      <td>12</td>\n",
       "      <td>4</td>\n",
       "      <td>11</td>\n",
       "      <td>4</td>\n",
       "      <td>10</td>\n",
       "      <td>9</td>\n",
       "    </tr>\n",
       "  </tbody>\n",
       "</table>\n",
       "</div>"
      ],
      "text/plain": [
       "   S1  R1  S2  R2  S3  R3  S4  R4  S5  R5  Hand\n",
       "0   1  10   1  11   1  13   1  12   1   1     9\n",
       "1   2  11   2  13   2  10   2  12   2   1     9\n",
       "2   3  12   3  11   3  13   3  10   3   1     9\n",
       "3   4  10   4  11   4   1   4  13   4  12     9\n",
       "4   4   1   4  13   4  12   4  11   4  10     9"
      ]
     },
     "execution_count": 6,
     "metadata": {},
     "output_type": "execute_result"
    }
   ],
   "source": [
    "training_data.head()"
   ]
  },
  {
   "cell_type": "markdown",
   "metadata": {
    "colab_type": "text",
    "id": "B1pmiM-Fk5UI"
   },
   "source": [
    "That's better. Consulting the [dataset documentation](https://archive.ics.uci.edu/ml/datasets/Poker+Hand), we can learn the following about the columns:\n",
    "\n",
    "\"The suit columns (starting with 'S'):\n",
    "\n",
    "* Ordinal (1-4) representing {Hearts, Spades, Diamonds, Clubs}\n",
    "\n",
    "\n",
    "The rank columns (starting with 'R'): \n",
    "\n",
    "* Numerical (1-13) representing (Ace, 2, 3, ... , Queen, King) \n",
    "\n",
    "\n",
    "The 'Hand' column: Ordinal (0-9) \n",
    "\n",
    "\n",
    "* 0: Nothing in hand; not a recognized poker hand \n",
    "\n",
    "* 1: One pair; one pair of equal ranks within five cards \n",
    "\n",
    "* 2: Two pairs; two pairs of equal ranks within five cards \n",
    "\n",
    "* 3: Three of a kind; three equal ranks within five cards \n",
    "\n",
    "* 4: Straight; five cards, sequentially ranked with no gaps \n",
    "\n",
    "* 5: Flush; five cards with the same suit \n",
    "\n",
    "* 6: Full house; pair + different rank three of a kind \n",
    "\n",
    "* 7: Four of a kind; four equal ranks within five cards \n",
    "\n",
    "* 8: Straight flush; straight + flush \n",
    "\n",
    "* 9: Royal flush; {Ace, King, Queen, Jack, Ten} + flush\"\n",
    "\n",
    "\n",
    "Now that we are familiar with our data, let's follow our hypothesis and see if we can get descent results with a Decision Tree model."
   ]
  },
  {
   "cell_type": "code",
   "execution_count": 7,
   "metadata": {
    "colab": {},
    "colab_type": "code",
    "id": "Dx-YXKK1kgfU"
   },
   "outputs": [],
   "source": [
    "# dividing independent and dependent variables into x and y\n",
    "X_train = training_data.iloc[:,:-1]\n",
    "y_train = training_data.iloc[:,-1]\n",
    "\n",
    "X_test = testing_data.iloc[:,:-1]\n",
    "y_test = testing_data.iloc[:,-1]"
   ]
  },
  {
   "cell_type": "code",
   "execution_count": 8,
   "metadata": {
    "colab": {},
    "colab_type": "code",
    "id": "Wl7MggzGmZMe"
   },
   "outputs": [],
   "source": [
    "# function to apply the data to a Decision Tree model\n",
    "def decision_tree(X_train, y_train, X_test, y_test):\n",
    "    classifier = DecisionTreeClassifier(random_state = 0)\n",
    "    classifier.fit(X_train, y_train)\n",
    "    global y_pred\n",
    "    y_pred = classifier.predict(X_test)\n",
    "    accuracy_pct = round(accuracy_score(y_test, y_pred) * 100, 6)\n",
    "    return accuracy_pct"
   ]
  },
  {
   "cell_type": "code",
   "execution_count": 9,
   "metadata": {
    "colab": {
     "base_uri": "https://localhost:8080/",
     "height": 34
    },
    "colab_type": "code",
    "id": "b_s5xwVwmncu",
    "outputId": "195cce30-defe-4509-ac22-6e0afcee155d"
   },
   "outputs": [
    {
     "name": "stdout",
     "output_type": "stream",
     "text": [
      "The model is 47.9303% accurate\n"
     ]
    }
   ],
   "source": [
    "accuracy_pct = decision_tree(X_train, y_train, X_test, y_test)\n",
    "print(f'The model is {accuracy_pct}% accurate')"
   ]
  },
  {
   "cell_type": "markdown",
   "metadata": {
    "colab_type": "text",
    "id": "HPAewqWQmyP5"
   },
   "source": [
    "Only 48 %! Perhaps our hypothesis was wrong - a decision tree looks like a terrible choice. Without getting into nitty gritty details, let's do a quick experiment: we'll try a few other model architectures and see if they do better. "
   ]
  },
  {
   "cell_type": "code",
   "execution_count": 10,
   "metadata": {
    "colab": {},
    "colab_type": "code",
    "id": "9P7r3XRSnFId"
   },
   "outputs": [],
   "source": [
    "def try_many_models(X_train, y_train, X_test, y_test):\n",
    "    \n",
    "    '''Applies the data to a few different classification models and returns the associated scores'''\n",
    "    \n",
    "    accuracies = []\n",
    "    \n",
    "    # feature scaling will be needed by some of the models\n",
    "    sc = StandardScaler()\n",
    "    X_train = sc.fit_transform(X_train)\n",
    "    X_test = sc.transform(X_test)\n",
    "\n",
    "    # Logistic Regression\n",
    "    from sklearn.linear_model import LogisticRegression\n",
    "    classifier = LogisticRegression(random_state = 0)\n",
    "    classifier.fit(X_train, y_train)\n",
    "    y_pred = classifier.predict(X_test)\n",
    "    accuracy_pct = round(accuracy_score(y_test, y_pred) * 100, 2)\n",
    "    accuracies.append(('Logistic Regression', accuracy_pct))\n",
    "\n",
    "    # K-nearest neighbors\n",
    "    from sklearn.neighbors import KNeighborsClassifier\n",
    "    classifier = KNeighborsClassifier(n_neighbors = 5)\n",
    "    classifier.fit(X_train, y_train)\n",
    "    y_pred = classifier.predict(X_test)\n",
    "    accuracy_pct = round(accuracy_score(y_test, y_pred) * 100, 2)\n",
    "    accuracies.append(('K-nearest neighbors', accuracy_pct))\n",
    "\n",
    "    # Support Vector Machine\n",
    "    from sklearn.svm import SVC\n",
    "    classifier = SVC(kernel = 'linear', random_state = 0)\n",
    "    classifier.fit(X_train, y_train)\n",
    "    y_pred = classifier.predict(X_test)\n",
    "    accuracy_pct = round(accuracy_score(y_test, y_pred) * 100, 2)\n",
    "    accuracies.append(('SVC', accuracy_pct))\n",
    "\n",
    "    # RBF Kernel SVM\n",
    "    from sklearn.svm import SVC\n",
    "    classifier = SVC(kernel = 'rbf', random_state = 0)\n",
    "    classifier.fit(X_train, y_train)\n",
    "    y_pred = classifier.predict(X_test)\n",
    "    accuracy_pct = round(accuracy_score(y_test, y_pred) * 100, 2)\n",
    "    accuracies.append(('RBF Kernel SVM', accuracy_pct))\n",
    "\n",
    "    # Naive Bayes\n",
    "    from sklearn.naive_bayes import GaussianNB\n",
    "    classifier = GaussianNB()\n",
    "    classifier.fit(X_train, y_train)\n",
    "    y_pred = classifier.predict(X_test)\n",
    "    accuracy_pct = round(accuracy_score(y_test, y_pred) * 100, 2)\n",
    "    accuracies.append(('Naive Bayes', accuracy_pct))\n",
    "\n",
    "    # Random Forest\n",
    "    from sklearn.ensemble import RandomForestClassifier\n",
    "    classifier = RandomForestClassifier(n_estimators = 10, criterion = 'gini', random_state = 0)\n",
    "    classifier.fit(X_train, y_train)\n",
    "    y_pred = classifier.predict(X_test)\n",
    "    accuracy_pct = round(accuracy_score(y_test, y_pred) * 100, 2)\n",
    "    accuracies.append(('Random Forest', accuracy_pct))\n",
    "    \n",
    "    accuracies = pd.DataFrame(accuracies, columns = ['Model', 'Accuracy (%)'])\n",
    "    \n",
    "    return accuracies"
   ]
  },
  {
   "cell_type": "code",
   "execution_count": 11,
   "metadata": {
    "colab": {
     "base_uri": "https://localhost:8080/",
     "height": 272
    },
    "colab_type": "code",
    "id": "xtXIuxfEnpYE",
    "outputId": "7ee19e13-2eb5-4ab1-8cbc-97c7b906e0ad",
    "scrolled": true
   },
   "outputs": [
    {
     "name": "stderr",
     "output_type": "stream",
     "text": [
      "/opt/anaconda3/envs/general/lib/python3.7/site-packages/sklearn/linear_model/_logistic.py:764: ConvergenceWarning: lbfgs failed to converge (status=1):\n",
      "STOP: TOTAL NO. of ITERATIONS REACHED LIMIT.\n",
      "\n",
      "Increase the number of iterations (max_iter) or scale the data as shown in:\n",
      "    https://scikit-learn.org/stable/modules/preprocessing.html\n",
      "Please also refer to the documentation for alternative solver options:\n",
      "    https://scikit-learn.org/stable/modules/linear_model.html#logistic-regression\n",
      "  extra_warning_msg=_LOGISTIC_SOLVER_CONVERGENCE_MSG)\n"
     ]
    },
    {
     "data": {
      "text/html": [
       "<div>\n",
       "<style scoped>\n",
       "    .dataframe tbody tr th:only-of-type {\n",
       "        vertical-align: middle;\n",
       "    }\n",
       "\n",
       "    .dataframe tbody tr th {\n",
       "        vertical-align: top;\n",
       "    }\n",
       "\n",
       "    .dataframe thead th {\n",
       "        text-align: right;\n",
       "    }\n",
       "</style>\n",
       "<table border=\"1\" class=\"dataframe\">\n",
       "  <thead>\n",
       "    <tr style=\"text-align: right;\">\n",
       "      <th></th>\n",
       "      <th>Model</th>\n",
       "      <th>Accuracy (%)</th>\n",
       "    </tr>\n",
       "  </thead>\n",
       "  <tbody>\n",
       "    <tr>\n",
       "      <th>0</th>\n",
       "      <td>Logistic Regression</td>\n",
       "      <td>50.12</td>\n",
       "    </tr>\n",
       "    <tr>\n",
       "      <th>1</th>\n",
       "      <td>K-nearest neighbors</td>\n",
       "      <td>51.18</td>\n",
       "    </tr>\n",
       "    <tr>\n",
       "      <th>2</th>\n",
       "      <td>SVC</td>\n",
       "      <td>50.12</td>\n",
       "    </tr>\n",
       "    <tr>\n",
       "      <th>3</th>\n",
       "      <td>RBF Kernel SVM</td>\n",
       "      <td>55.68</td>\n",
       "    </tr>\n",
       "    <tr>\n",
       "      <th>4</th>\n",
       "      <td>Naive Bayes</td>\n",
       "      <td>50.12</td>\n",
       "    </tr>\n",
       "    <tr>\n",
       "      <th>5</th>\n",
       "      <td>Random Forest</td>\n",
       "      <td>56.57</td>\n",
       "    </tr>\n",
       "  </tbody>\n",
       "</table>\n",
       "</div>"
      ],
      "text/plain": [
       "                 Model  Accuracy (%)\n",
       "0  Logistic Regression         50.12\n",
       "1  K-nearest neighbors         51.18\n",
       "2                  SVC         50.12\n",
       "3       RBF Kernel SVM         55.68\n",
       "4          Naive Bayes         50.12\n",
       "5        Random Forest         56.57"
      ]
     },
     "execution_count": 11,
     "metadata": {},
     "output_type": "execute_result"
    }
   ],
   "source": [
    "try_many_models(X_train, y_train, X_test, y_test)"
   ]
  },
  {
   "cell_type": "markdown",
   "metadata": {
    "colab_type": "text",
    "id": "OtGVtOg8n3n7"
   },
   "source": [
    "Logistic Regression returned an warning message above its score - we'll disregard that for now - it's still easy to see that our main problem is not the choice of model as they all hover around 50%. It's time to see if we can enhance our data.\n"
   ]
  },
  {
   "cell_type": "code",
   "execution_count": 12,
   "metadata": {
    "colab": {
     "base_uri": "https://localhost:8080/",
     "height": 204
    },
    "colab_type": "code",
    "id": "BLuXzpAeoADz",
    "outputId": "a53668ac-e4c7-4f9b-e5f7-5c47abdac0d5"
   },
   "outputs": [
    {
     "data": {
      "text/html": [
       "<div>\n",
       "<style scoped>\n",
       "    .dataframe tbody tr th:only-of-type {\n",
       "        vertical-align: middle;\n",
       "    }\n",
       "\n",
       "    .dataframe tbody tr th {\n",
       "        vertical-align: top;\n",
       "    }\n",
       "\n",
       "    .dataframe thead th {\n",
       "        text-align: right;\n",
       "    }\n",
       "</style>\n",
       "<table border=\"1\" class=\"dataframe\">\n",
       "  <thead>\n",
       "    <tr style=\"text-align: right;\">\n",
       "      <th></th>\n",
       "      <th>S1</th>\n",
       "      <th>R1</th>\n",
       "      <th>S2</th>\n",
       "      <th>R2</th>\n",
       "      <th>S3</th>\n",
       "      <th>R3</th>\n",
       "      <th>S4</th>\n",
       "      <th>R4</th>\n",
       "      <th>S5</th>\n",
       "      <th>R5</th>\n",
       "    </tr>\n",
       "  </thead>\n",
       "  <tbody>\n",
       "    <tr>\n",
       "      <th>0</th>\n",
       "      <td>1</td>\n",
       "      <td>10</td>\n",
       "      <td>1</td>\n",
       "      <td>11</td>\n",
       "      <td>1</td>\n",
       "      <td>13</td>\n",
       "      <td>1</td>\n",
       "      <td>12</td>\n",
       "      <td>1</td>\n",
       "      <td>1</td>\n",
       "    </tr>\n",
       "    <tr>\n",
       "      <th>1</th>\n",
       "      <td>2</td>\n",
       "      <td>11</td>\n",
       "      <td>2</td>\n",
       "      <td>13</td>\n",
       "      <td>2</td>\n",
       "      <td>10</td>\n",
       "      <td>2</td>\n",
       "      <td>12</td>\n",
       "      <td>2</td>\n",
       "      <td>1</td>\n",
       "    </tr>\n",
       "    <tr>\n",
       "      <th>2</th>\n",
       "      <td>3</td>\n",
       "      <td>12</td>\n",
       "      <td>3</td>\n",
       "      <td>11</td>\n",
       "      <td>3</td>\n",
       "      <td>13</td>\n",
       "      <td>3</td>\n",
       "      <td>10</td>\n",
       "      <td>3</td>\n",
       "      <td>1</td>\n",
       "    </tr>\n",
       "    <tr>\n",
       "      <th>3</th>\n",
       "      <td>4</td>\n",
       "      <td>10</td>\n",
       "      <td>4</td>\n",
       "      <td>11</td>\n",
       "      <td>4</td>\n",
       "      <td>1</td>\n",
       "      <td>4</td>\n",
       "      <td>13</td>\n",
       "      <td>4</td>\n",
       "      <td>12</td>\n",
       "    </tr>\n",
       "    <tr>\n",
       "      <th>4</th>\n",
       "      <td>4</td>\n",
       "      <td>1</td>\n",
       "      <td>4</td>\n",
       "      <td>13</td>\n",
       "      <td>4</td>\n",
       "      <td>12</td>\n",
       "      <td>4</td>\n",
       "      <td>11</td>\n",
       "      <td>4</td>\n",
       "      <td>10</td>\n",
       "    </tr>\n",
       "  </tbody>\n",
       "</table>\n",
       "</div>"
      ],
      "text/plain": [
       "   S1  R1  S2  R2  S3  R3  S4  R4  S5  R5\n",
       "0   1  10   1  11   1  13   1  12   1   1\n",
       "1   2  11   2  13   2  10   2  12   2   1\n",
       "2   3  12   3  11   3  13   3  10   3   1\n",
       "3   4  10   4  11   4   1   4  13   4  12\n",
       "4   4   1   4  13   4  12   4  11   4  10"
      ]
     },
     "execution_count": 12,
     "metadata": {},
     "output_type": "execute_result"
    }
   ],
   "source": [
    "X_train.head()"
   ]
  },
  {
   "cell_type": "markdown",
   "metadata": {
    "colab_type": "text",
    "id": "U0re2i5XoDnr"
   },
   "source": [
    "Frankly, these numbers would be pretty cumbersome to process for a human as well. Let's see if we can make it easier. What is the first thing a human does to evaluate a poker hand? It's probably to look for cards with the same rank, to see if there are any pairs, three of a kind etc. Let's create a feature that looks for cards with the same ranks. "
   ]
  },
  {
   "cell_type": "code",
   "execution_count": 13,
   "metadata": {
    "colab": {},
    "colab_type": "code",
    "id": "VgZS-J0Lh_0U"
   },
   "outputs": [],
   "source": [
    "def match_counter(row):\n",
    "    \n",
    "    '''Function to see how many cards in each hand have matching ranks. \n",
    "    Example: the hand [4,4,7,9,10] returns (2,1) since there are 2 fours and 1 of everything else\n",
    "    The hand [4,4,6,6,6] returns (3,2) since there are 3 sixes and 2 fours\n",
    "    \n",
    "    Parameters:\n",
    "    row (pd.DataFrame): one row from the dataset containing the 5 rank columns for the card\n",
    "    \n",
    "    Returns:\n",
    "    pd.Series: two highest counts of matching ranks\n",
    "    '''\n",
    "    \n",
    "    match_counts = row.value_counts().nlargest(2)\n",
    "    return pd.Series([match_counts.iloc[0], match_counts.iloc[1]])\n",
    "\n",
    "# using function to create new features\n",
    "X_train[['match_count1', 'match_count2']] = X_train.loc[:,['R1', 'R2', 'R3', 'R4', 'R5']].apply(match_counter, axis = 1)\n",
    "X_test[['match_count1', 'match_count2']] = X_test.loc[:,['R1', 'R2', 'R3', 'R4', 'R5']].apply(match_counter, axis = 1)"
   ]
  },
  {
   "cell_type": "markdown",
   "metadata": {
    "colab_type": "text",
    "id": "kbTxUr8pOx6f"
   },
   "source": [
    "This should give the model a fair chance to determine many hands, since:\n",
    "* 1 pair always comes out as (2,1)\n",
    "* 2 pairs as (2,2)\n",
    "* Three of a kind as (3,1)\n",
    "* Four of a kind as (4,1)\n",
    "* Full house as (3,2)\n",
    "\n",
    "Let's see if our two new columns help the model!"
   ]
  },
  {
   "cell_type": "code",
   "execution_count": 14,
   "metadata": {
    "colab": {
     "base_uri": "https://localhost:8080/",
     "height": 34
    },
    "colab_type": "code",
    "id": "nctFyP1ut-W_",
    "outputId": "5ba257ec-bfac-484a-f3d6-14b05f59a1b3"
   },
   "outputs": [
    {
     "name": "stdout",
     "output_type": "stream",
     "text": [
      "The model is 98.7694% accurate\n"
     ]
    }
   ],
   "source": [
    "#trying the Decision Tree model again\n",
    "accuracy_pct = decision_tree(X_train, y_train, X_test, y_test)\n",
    "print(f'The model is {accuracy_pct}% accurate')"
   ]
  },
  {
   "cell_type": "markdown",
   "metadata": {
    "colab_type": "text",
    "id": "UxMx7GlnsLCc"
   },
   "source": [
    "98.8%! It's incredible what a difference two new columns can make!\n",
    "\n",
    "Let's see which poker hands we're still struggling with. What are the remaining 1.2%?"
   ]
  },
  {
   "cell_type": "code",
   "execution_count": 15,
   "metadata": {
    "colab": {
     "base_uri": "https://localhost:8080/",
     "height": 281
    },
    "colab_type": "code",
    "id": "D8Fhw_iSrWgd",
    "outputId": "033bf604-ed5d-4704-df35-377a41003509"
   },
   "outputs": [
    {
     "data": {
      "image/png": "[encoded data removed]",
      "text/plain": [
       "<Figure size 432x288 with 1 Axes>"
      ]
     },
     "metadata": {
      "needs_background": "light"
     },
     "output_type": "display_data"
    }
   ],
   "source": [
    "#function to vizualize our loss\n",
    "def visualize_loss():\n",
    "    \n",
    "    '''Produces a log-scale visualization of the model predictions compared to the actual values'''\n",
    "    \n",
    "    plt.hist((y_pred,y_test),bins=np.arange(11)-0.5,log=True)\n",
    "    plt.legend(labels=('Predictions','Actuals'))\n",
    "    plt.xticks(range(10))\n",
    "    plt.title('Predictions vs Actuals - log scale')\n",
    "    plt.show()\n",
    "\n",
    "visualize_loss()"
   ]
  },
  {
   "cell_type": "markdown",
   "metadata": {
    "colab_type": "text",
    "id": "1D78lNI66UOC"
   },
   "source": [
    "The main problem areas are 5, 8, and 9. Referring back to the [dataset description](https://archive.ics.uci.edu/ml/datasets/Poker+Hand), that's Flush, Straight Flush, and Royal Straight Flush, respecticely. Let's add a feature to help determine whether a hand is a flush or not."
   ]
  },
  {
   "cell_type": "code",
   "execution_count": 16,
   "metadata": {
    "colab": {},
    "colab_type": "code",
    "id": "FltVoPjdDaSE"
   },
   "outputs": [],
   "source": [
    "# adding feature that counts the number of different suits (a value of 1 means all cards have the same suit, i.e. flush)\n",
    "X_train['flush'] = X_train.loc[:,['S1', 'S2', 'S3', 'S4', 'S5']].apply(lambda x: len(np.unique(x)), axis = 1)\n",
    "X_test['flush'] = X_test.loc[:,['S1', 'S2', 'S3', 'S4', 'S5']].apply(lambda x: len(np.unique(x)), axis = 1)"
   ]
  },
  {
   "cell_type": "code",
   "execution_count": 17,
   "metadata": {
    "colab": {
     "base_uri": "https://localhost:8080/",
     "height": 34
    },
    "colab_type": "code",
    "id": "F_zhIBRJEOge",
    "outputId": "79b3d678-6459-411d-a4b7-00875603a96b"
   },
   "outputs": [
    {
     "name": "stdout",
     "output_type": "stream",
     "text": [
      "The model is 99.345% accurate\n"
     ]
    }
   ],
   "source": [
    "# trying the Decision Tree model again\n",
    "accuracy_pct = decision_tree(X_train, y_train, X_test, y_test)\n",
    "print(f'The model is {accuracy_pct}% accurate')"
   ]
  },
  {
   "cell_type": "markdown",
   "metadata": {
    "colab_type": "text",
    "id": "SD-BgYKO1pKm"
   },
   "source": [
    "Getting closer! What are the remaining issues?"
   ]
  },
  {
   "cell_type": "code",
   "execution_count": 18,
   "metadata": {
    "colab": {
     "base_uri": "https://localhost:8080/",
     "height": 281
    },
    "colab_type": "code",
    "id": "GwWB26zD6yHT",
    "outputId": "f30d86d8-d17b-45ec-91a3-0eef282b9ff6"
   },
   "outputs": [
    {
     "data": {
      "image/png": "[encoded data removed]",
      "text/plain": [
       "<Figure size 432x288 with 1 Axes>"
      ]
     },
     "metadata": {
      "needs_background": "light"
     },
     "output_type": "display_data"
    }
   ],
   "source": [
    "# visualizing\n",
    "visualize_loss()"
   ]
  },
  {
   "cell_type": "markdown",
   "metadata": {
    "colab_type": "text",
    "id": "cV858kL77PED"
   },
   "source": [
    "Three tricky areas right now are category 8, 9 and 4 - those are straights. I could imagine our model struggling with straights ranging from 10 to ace [10,11,12,13,1]. Let's exchange all 1s for 14 to get a more logical [10,11,12,13,14]."
   ]
  },
  {
   "cell_type": "code",
   "execution_count": 19,
   "metadata": {
    "colab": {},
    "colab_type": "code",
    "id": "o_879Ml-cJYk"
   },
   "outputs": [],
   "source": [
    "for rank in ['R1', 'R2', 'R3', 'R4', 'R5']:\n",
    "    X_train.loc[X_train[rank] == 1,rank] = 14\n",
    "    X_test.loc[X_test[rank] == 1,rank] = 14"
   ]
  },
  {
   "cell_type": "markdown",
   "metadata": {
    "colab_type": "text",
    "id": "6jFsIDNKcz1P"
   },
   "source": [
    "Let's also create a feature to help distinguish a straight. A helpful feature could perhaps be the span between the highest and the lowest card. In a straight, e.g. [3, 4, 5, 6, 7], this span will always be 4."
   ]
  },
  {
   "cell_type": "code",
   "execution_count": 20,
   "metadata": {
    "colab": {},
    "colab_type": "code",
    "id": "D1p-UimJE4Cp"
   },
   "outputs": [],
   "source": [
    "X_train['span'] = X_train.loc[:,['R1', 'R2', 'R3', 'R4', 'R5']].apply(lambda x: max(x)-min(x), axis = 1)\n",
    "X_test['span'] = X_test.loc[:,['R1', 'R2', 'R3', 'R4', 'R5']].apply(lambda x: max(x)-min(x), axis = 1)"
   ]
  },
  {
   "cell_type": "code",
   "execution_count": 21,
   "metadata": {
    "colab": {
     "base_uri": "https://localhost:8080/",
     "height": 34
    },
    "colab_type": "code",
    "id": "Dp5NyU0e8CEH",
    "outputId": "d6239114-9bd7-4eac-a857-2749d3434d90"
   },
   "outputs": [
    {
     "name": "stdout",
     "output_type": "stream",
     "text": [
      "The model is 99.9636% accurate\n"
     ]
    }
   ],
   "source": [
    "# trying the Decision Tree model again\n",
    "accuracy_pct = decision_tree(X_train, y_train, X_test, y_test)\n",
    "print(f'The model is {accuracy_pct}% accurate')"
   ]
  },
  {
   "cell_type": "markdown",
   "metadata": {
    "colab_type": "text",
    "id": "IDjWjl2j8RJ7"
   },
   "source": [
    "So close now! What are the remaining few issues?"
   ]
  },
  {
   "cell_type": "code",
   "execution_count": 22,
   "metadata": {
    "colab": {
     "base_uri": "https://localhost:8080/",
     "height": 281
    },
    "colab_type": "code",
    "id": "j6vydOty8LZn",
    "outputId": "2dd899c8-8e37-4361-d57d-6198fac5faad"
   },
   "outputs": [
    {
     "data": {
      "image/png": "[encoded data removed]",
      "text/plain": [
       "<Figure size 432x288 with 1 Axes>"
      ]
     },
     "metadata": {
      "needs_background": "light"
     },
     "output_type": "display_data"
    }
   ],
   "source": [
    "# visualizing\n",
    "visualize_loss()"
   ]
  },
  {
   "cell_type": "markdown",
   "metadata": {
    "colab_type": "text",
    "id": "M4CpJlO18aT_"
   },
   "source": [
    "Looks like we're predicting too many 8's and 9's. Let's start with the 9's - Royal Straight Flush. A feature that should help us predict them is the sum of the card ranks. A Royal Straight Flush should always amount to 10+11+12+13+14 = 60"
   ]
  },
  {
   "cell_type": "code",
   "execution_count": 23,
   "metadata": {
    "colab": {},
    "colab_type": "code",
    "id": "cN0FFV7a89Zz"
   },
   "outputs": [],
   "source": [
    "X_train['sum'] = X_train.loc[:,['R1', 'R2', 'R3', 'R4', 'R5']].apply(lambda x: sum(x), axis = 1)\n",
    "X_test['sum'] = X_test.loc[:,['R1', 'R2', 'R3', 'R4', 'R5']].apply(lambda x: sum(x), axis = 1)"
   ]
  },
  {
   "cell_type": "code",
   "execution_count": 24,
   "metadata": {
    "colab": {
     "base_uri": "https://localhost:8080/",
     "height": 34
    },
    "colab_type": "code",
    "id": "0PzLzSNs9Y2K",
    "outputId": "f1b19916-380f-4380-cf43-ce05fc2d878f"
   },
   "outputs": [
    {
     "name": "stdout",
     "output_type": "stream",
     "text": [
      "The model is 100.0% accurate\n"
     ]
    }
   ],
   "source": [
    "# trying the Decision Tree model again\n",
    "accuracy_pct = decision_tree(X_train, y_train, X_test, y_test)\n",
    "print(f'The model is {accuracy_pct}% accurate')"
   ]
  },
  {
   "cell_type": "markdown",
   "metadata": {
    "colab_type": "text",
    "id": "JS_EIHGhi_4H"
   },
   "source": [
    "Sweet, we did it! Just look at this gorgeous image:"
   ]
  },
  {
   "cell_type": "code",
   "execution_count": 25,
   "metadata": {
    "colab": {
     "base_uri": "https://localhost:8080/",
     "height": 281
    },
    "colab_type": "code",
    "id": "zYu9BrQXYzPX",
    "outputId": "f2b20c6e-4832-4d67-c53d-df5df6ea9182"
   },
   "outputs": [
    {
     "data": {
      "image/png": "[encoded data removed]",
      "text/plain": [
       "<Figure size 432x288 with 1 Axes>"
      ]
     },
     "metadata": {
      "needs_background": "light"
     },
     "output_type": "display_data"
    }
   ],
   "source": [
    "# victory lap visualization\n",
    "visualize_loss()"
   ]
  },
  {
   "cell_type": "markdown",
   "metadata": {
    "colab_type": "text",
    "id": "BCxSmfBWjS7u"
   },
   "source": [
    "And just for fun, let's see how the other models handle the new features:"
   ]
  },
  {
   "cell_type": "code",
   "execution_count": 26,
   "metadata": {
    "colab": {
     "base_uri": "https://localhost:8080/",
     "height": 275
    },
    "colab_type": "code",
    "id": "rlTbsGnnjSjN",
    "outputId": "ccf6371d-c052-476e-b458-d6ad1724f53d"
   },
   "outputs": [
    {
     "name": "stderr",
     "output_type": "stream",
     "text": [
      "/opt/anaconda3/envs/general/lib/python3.7/site-packages/sklearn/linear_model/_logistic.py:764: ConvergenceWarning: lbfgs failed to converge (status=1):\n",
      "STOP: TOTAL NO. of ITERATIONS REACHED LIMIT.\n",
      "\n",
      "Increase the number of iterations (max_iter) or scale the data as shown in:\n",
      "    https://scikit-learn.org/stable/modules/preprocessing.html\n",
      "Please also refer to the documentation for alternative solver options:\n",
      "    https://scikit-learn.org/stable/modules/linear_model.html#logistic-regression\n",
      "  extra_warning_msg=_LOGISTIC_SOLVER_CONVERGENCE_MSG)\n"
     ]
    },
    {
     "data": {
      "text/html": [
       "<div>\n",
       "<style scoped>\n",
       "    .dataframe tbody tr th:only-of-type {\n",
       "        vertical-align: middle;\n",
       "    }\n",
       "\n",
       "    .dataframe tbody tr th {\n",
       "        vertical-align: top;\n",
       "    }\n",
       "\n",
       "    .dataframe thead th {\n",
       "        text-align: right;\n",
       "    }\n",
       "</style>\n",
       "<table border=\"1\" class=\"dataframe\">\n",
       "  <thead>\n",
       "    <tr style=\"text-align: right;\">\n",
       "      <th></th>\n",
       "      <th>Model</th>\n",
       "      <th>Accuracy (%)</th>\n",
       "    </tr>\n",
       "  </thead>\n",
       "  <tbody>\n",
       "    <tr>\n",
       "      <th>0</th>\n",
       "      <td>Logistic Regression</td>\n",
       "      <td>99.72</td>\n",
       "    </tr>\n",
       "    <tr>\n",
       "      <th>1</th>\n",
       "      <td>K-nearest neighbors</td>\n",
       "      <td>98.36</td>\n",
       "    </tr>\n",
       "    <tr>\n",
       "      <th>2</th>\n",
       "      <td>SVC</td>\n",
       "      <td>99.96</td>\n",
       "    </tr>\n",
       "    <tr>\n",
       "      <th>3</th>\n",
       "      <td>RBF Kernel SVM</td>\n",
       "      <td>99.58</td>\n",
       "    </tr>\n",
       "    <tr>\n",
       "      <th>4</th>\n",
       "      <td>Naive Bayes</td>\n",
       "      <td>99.72</td>\n",
       "    </tr>\n",
       "    <tr>\n",
       "      <th>5</th>\n",
       "      <td>Random Forest</td>\n",
       "      <td>99.87</td>\n",
       "    </tr>\n",
       "  </tbody>\n",
       "</table>\n",
       "</div>"
      ],
      "text/plain": [
       "                 Model  Accuracy (%)\n",
       "0  Logistic Regression         99.72\n",
       "1  K-nearest neighbors         98.36\n",
       "2                  SVC         99.96\n",
       "3       RBF Kernel SVM         99.58\n",
       "4          Naive Bayes         99.72\n",
       "5        Random Forest         99.87"
      ]
     },
     "execution_count": 26,
     "metadata": {},
     "output_type": "execute_result"
    }
   ],
   "source": [
    "try_many_models(X_train, y_train, X_test, y_test)"
   ]
  },
  {
   "cell_type": "markdown",
   "metadata": {
    "colab_type": "text",
    "id": "iRqm1gJFvsQL"
   },
   "source": [
    "# Comments\n",
    "* Even though the Decision Tree model looked weak in the first comparison, it is now the only one to reach 100%. The original hypothesis holds true!\n",
    "* A common way to gain insights about misclassified data is to look into not just which classes get misclassified most, but also which classes they are incorrectly assigned to. In this simple tutorial, however, we didn't need to. \n",
    "* The initial concern about the testing set being larger than the training set proved unwarranted. 25000 entries were enough to train a perfect model.\n",
    "* Even though we reached 100% accuracy, there's definitely room for improvement. For instance, the first feature generation using pd.Series.value_counts.nlargest is pretty slow/inefficient (50-100x slower than the other feature generations). It could probably be rewritten to run faster.\n",
    "\n",
    "# Other directions\n",
    "\n",
    "There are definitely other strategies we could try here, for example:\n",
    "\n",
    "* Sorting the cards in ascending order\n",
    "* Changing the dataset structure completely:\n",
    "  * Using 5 columns, one for each card, and using values between 0 and 51 (a deck of cards has 52 different cards). \n",
    "  * Using 52 one-hot-encoded columns - one for each possible card.\n",
    "* Applying the raw data to a Neural Network instead of creating new features"
   ]
  }
 ],
 "metadata": {
  "accelerator": "GPU",
  "colab": {
   "name": "Poker_project.ipynb",
   "provenance": [],
   "toc_visible": true
  },
  "kernelspec": {
   "display_name": "Python 3",
   "language": "python",
   "name": "python3"
  },
  "language_info": {
   "codemirror_mode": {
    "name": "ipython",
    "version": 3
   },
   "file_extension": ".py",
   "mimetype": "text/x-python",
   "name": "python",
   "nbconvert_exporter": "python",
   "pygments_lexer": "ipython3",
   "version": "3.7.9"
  }
 },
 "nbformat": 4,
 "nbformat_minor": 1
}
